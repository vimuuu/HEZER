{
  "nbformat": 4,
  "nbformat_minor": 0,
  "metadata": {
    "colab": {
      "provenance": []
    },
    "kernelspec": {
      "name": "python3",
      "display_name": "Python 3"
    },
    "language_info": {
      "name": "python"
    }
  },
  "cells": [
    {
      "cell_type": "code",
      "source": [
        "# import packages\n",
        "import pandas as pd\n",
        "from sklearn.model_selection import train_test_split\n",
        "from sklearn.preprocessing import LabelEncoder\n",
        "from sklearn.ensemble import RandomForestRegressor\n",
        "from sklearn.metrics import mean_squared_error\n",
        "import json"
      ],
      "metadata": {
        "id": "DHSVZz8YE1Xc"
      },
      "execution_count": 2,
      "outputs": []
    },
    {
      "cell_type": "code",
      "source": [
        "# Load the dataset\n",
        "data = pd.read_csv('https://raw.githubusercontent.com/SamithaPrabath/course-finder/master/z_core_gpa.csv')\n",
        "\n",
        "data = data.dropna()"
      ],
      "metadata": {
        "id": "EFtFtZVkE9_a"
      },
      "execution_count": 3,
      "outputs": []
    },
    {
      "cell_type": "code",
      "source": [
        "# Encode categorical variables\n",
        "label_encoder = LabelEncoder()\n",
        "data['campus_encoded'] = label_encoder.fit_transform(data['University'])\n",
        "data['course_encoded'] = label_encoder.fit_transform(data['Specialization '])\n",
        "data['al_stream_encoded'] = label_encoder.fit_transform(data['Stream'])"
      ],
      "metadata": {
        "id": "UjbcoCTOFAO2"
      },
      "execution_count": 4,
      "outputs": []
    },
    {
      "cell_type": "code",
      "source": [
        "# function for save mappings to json file\n",
        "def create_json_file(file_name, encoded_list, pure_list):\n",
        "  mapping ={}\n",
        "  for i in range(len(encoded_list)):\n",
        "    if pure_list[i] not in mapping:\n",
        "      try:\n",
        "        mapping[pure_list[i]] = int(encoded_list[i])\n",
        "      except:\n",
        "        continue\n",
        "\n",
        "  filename = file_name\n",
        "  with open(filename, 'w') as file:\n",
        "    json.dump(mapping, file)"
      ],
      "metadata": {
        "id": "sfAADiRZEqBU"
      },
      "execution_count": 5,
      "outputs": []
    },
    {
      "cell_type": "code",
      "source": [
        "create_json_file('campus_mapping.json', data['campus_encoded'], list(data['University']))\n",
        "create_json_file('course_mapping.json', data['campus_encoded'], list(data['Specialization ']))\n",
        "create_json_file('al_stream_mapping.json', data['campus_encoded'], list(data['Stream']))"
      ],
      "metadata": {
        "id": "lQEqn9RiFCEt"
      },
      "execution_count": 6,
      "outputs": []
    },
    {
      "cell_type": "code",
      "source": [
        "# Split the data into features (X) and target (y)\n",
        "X = data[['campus_encoded', 'course_encoded', 'al_stream_encoded', 'z_Core']]\n",
        "y = data['gpa']\n",
        "\n",
        "# Split the data into training and testing sets\n",
        "X_train, X_test, y_train, y_test = train_test_split(X, y, test_size=0.2, random_state=42)"
      ],
      "metadata": {
        "id": "1jL6AIsPFhOx"
      },
      "execution_count": 7,
      "outputs": []
    },
    {
      "cell_type": "code",
      "source": [
        "# Create a random forest regressor model\n",
        "model = RandomForestRegressor(n_estimators=100, random_state=42)\n",
        "\n",
        "# Train the model\n",
        "model.fit(X_train, y_train)\n"
      ],
      "metadata": {
        "colab": {
          "base_uri": "https://localhost:8080/",
          "height": 74
        },
        "id": "o6RKX83CpCQk",
        "outputId": "7db504bb-ee90-4495-b1a3-7e0c1861ba73"
      },
      "execution_count": 8,
      "outputs": [
        {
          "output_type": "execute_result",
          "data": {
            "text/plain": [
              "RandomForestRegressor(random_state=42)"
            ],
            "text/html": [
              "<style>#sk-container-id-1 {color: black;background-color: white;}#sk-container-id-1 pre{padding: 0;}#sk-container-id-1 div.sk-toggleable {background-color: white;}#sk-container-id-1 label.sk-toggleable__label {cursor: pointer;display: block;width: 100%;margin-bottom: 0;padding: 0.3em;box-sizing: border-box;text-align: center;}#sk-container-id-1 label.sk-toggleable__label-arrow:before {content: \"▸\";float: left;margin-right: 0.25em;color: #696969;}#sk-container-id-1 label.sk-toggleable__label-arrow:hover:before {color: black;}#sk-container-id-1 div.sk-estimator:hover label.sk-toggleable__label-arrow:before {color: black;}#sk-container-id-1 div.sk-toggleable__content {max-height: 0;max-width: 0;overflow: hidden;text-align: left;background-color: #f0f8ff;}#sk-container-id-1 div.sk-toggleable__content pre {margin: 0.2em;color: black;border-radius: 0.25em;background-color: #f0f8ff;}#sk-container-id-1 input.sk-toggleable__control:checked~div.sk-toggleable__content {max-height: 200px;max-width: 100%;overflow: auto;}#sk-container-id-1 input.sk-toggleable__control:checked~label.sk-toggleable__label-arrow:before {content: \"▾\";}#sk-container-id-1 div.sk-estimator input.sk-toggleable__control:checked~label.sk-toggleable__label {background-color: #d4ebff;}#sk-container-id-1 div.sk-label input.sk-toggleable__control:checked~label.sk-toggleable__label {background-color: #d4ebff;}#sk-container-id-1 input.sk-hidden--visually {border: 0;clip: rect(1px 1px 1px 1px);clip: rect(1px, 1px, 1px, 1px);height: 1px;margin: -1px;overflow: hidden;padding: 0;position: absolute;width: 1px;}#sk-container-id-1 div.sk-estimator {font-family: monospace;background-color: #f0f8ff;border: 1px dotted black;border-radius: 0.25em;box-sizing: border-box;margin-bottom: 0.5em;}#sk-container-id-1 div.sk-estimator:hover {background-color: #d4ebff;}#sk-container-id-1 div.sk-parallel-item::after {content: \"\";width: 100%;border-bottom: 1px solid gray;flex-grow: 1;}#sk-container-id-1 div.sk-label:hover label.sk-toggleable__label {background-color: #d4ebff;}#sk-container-id-1 div.sk-serial::before {content: \"\";position: absolute;border-left: 1px solid gray;box-sizing: border-box;top: 0;bottom: 0;left: 50%;z-index: 0;}#sk-container-id-1 div.sk-serial {display: flex;flex-direction: column;align-items: center;background-color: white;padding-right: 0.2em;padding-left: 0.2em;position: relative;}#sk-container-id-1 div.sk-item {position: relative;z-index: 1;}#sk-container-id-1 div.sk-parallel {display: flex;align-items: stretch;justify-content: center;background-color: white;position: relative;}#sk-container-id-1 div.sk-item::before, #sk-container-id-1 div.sk-parallel-item::before {content: \"\";position: absolute;border-left: 1px solid gray;box-sizing: border-box;top: 0;bottom: 0;left: 50%;z-index: -1;}#sk-container-id-1 div.sk-parallel-item {display: flex;flex-direction: column;z-index: 1;position: relative;background-color: white;}#sk-container-id-1 div.sk-parallel-item:first-child::after {align-self: flex-end;width: 50%;}#sk-container-id-1 div.sk-parallel-item:last-child::after {align-self: flex-start;width: 50%;}#sk-container-id-1 div.sk-parallel-item:only-child::after {width: 0;}#sk-container-id-1 div.sk-dashed-wrapped {border: 1px dashed gray;margin: 0 0.4em 0.5em 0.4em;box-sizing: border-box;padding-bottom: 0.4em;background-color: white;}#sk-container-id-1 div.sk-label label {font-family: monospace;font-weight: bold;display: inline-block;line-height: 1.2em;}#sk-container-id-1 div.sk-label-container {text-align: center;}#sk-container-id-1 div.sk-container {/* jupyter's `normalize.less` sets `[hidden] { display: none; }` but bootstrap.min.css set `[hidden] { display: none !important; }` so we also need the `!important` here to be able to override the default hidden behavior on the sphinx rendered scikit-learn.org. See: https://github.com/scikit-learn/scikit-learn/issues/21755 */display: inline-block !important;position: relative;}#sk-container-id-1 div.sk-text-repr-fallback {display: none;}</style><div id=\"sk-container-id-1\" class=\"sk-top-container\"><div class=\"sk-text-repr-fallback\"><pre>RandomForestRegressor(random_state=42)</pre><b>In a Jupyter environment, please rerun this cell to show the HTML representation or trust the notebook. <br />On GitHub, the HTML representation is unable to render, please try loading this page with nbviewer.org.</b></div><div class=\"sk-container\" hidden><div class=\"sk-item\"><div class=\"sk-estimator sk-toggleable\"><input class=\"sk-toggleable__control sk-hidden--visually\" id=\"sk-estimator-id-1\" type=\"checkbox\" checked><label for=\"sk-estimator-id-1\" class=\"sk-toggleable__label sk-toggleable__label-arrow\">RandomForestRegressor</label><div class=\"sk-toggleable__content\"><pre>RandomForestRegressor(random_state=42)</pre></div></div></div></div></div>"
            ]
          },
          "metadata": {},
          "execution_count": 8
        }
      ]
    },
    {
      "cell_type": "code",
      "source": [
        "# Load the new dataset for testing\n",
        "new_data = pd.read_csv('https://raw.githubusercontent.com/SamithaPrabath/course-finder/master/test_z_core_gpa.csv')\n",
        "\n",
        "# Encode categorical variables\n",
        "label_encoder = LabelEncoder()\n",
        "new_data['campus_encoded'] = label_encoder.fit_transform(new_data['University'])\n",
        "new_data['course_encoded'] = label_encoder.fit_transform(new_data['Specialization '])\n",
        "new_data['al_stream_encoded'] = label_encoder.fit_transform(new_data['Stream'])\n",
        "\n",
        "print(type(new_data['campus_encoded']))\n",
        "# Select the features for testing\n",
        "X_test = new_data[['campus_encoded', 'course_encoded', 'al_stream_encoded', 'z_Core']]\n",
        "\n",
        "# Make predictions using the trained model\n",
        "predictions = model.predict(X_test)\n",
        "\n",
        "# Display the predictions\n",
        "for prediction in predictions:\n",
        "    print('Predicted GPA range:', prediction)\n"
      ],
      "metadata": {
        "id": "vLixjXg_dJ61"
      },
      "execution_count": null,
      "outputs": []
    },
    {
      "cell_type": "code",
      "source": [
        "# function for read json file and mapping\n",
        "def map_jason(file_name, value):\n",
        "  with open(file_name, 'r') as file:\n",
        "    data_read = json.load(file)\n",
        "    for key in data_read:\n",
        "      if key == value:\n",
        "        return data_read[key]"
      ],
      "metadata": {
        "id": "by7bWU7IFxHC"
      },
      "execution_count": 13,
      "outputs": []
    },
    {
      "cell_type": "code",
      "source": [
        "import numpy as np\n",
        "from sklearn.preprocessing import LabelEncoder\n",
        "# Example data for testing\n",
        "new_data = {\n",
        "    'University': ['SLIIT'],\n",
        "    'Specialization ': ['Cyber Security'],\n",
        "    'Stream': ['Commerce Stream'],\n",
        "    'z_Core': [0.1678]\n",
        "}\n",
        "\n",
        "new_data = pd.DataFrame(new_data)\n",
        "\n",
        "new_data['campus_encoded'] = map_jason('campus_mapping.json',new_data['University'][0])\n",
        "new_data['course_encoded'] = map_jason('course_mapping.json',new_data['Specialization '][0])\n",
        "new_data['al_stream_encoded'] = map_jason('al_stream_mapping.json',new_data['Stream'][0])\n",
        "\n",
        "\n",
        "X_test = new_data[['campus_encoded', 'course_encoded', 'al_stream_encoded', 'z_Core']]\n",
        "\n",
        "# Make predictions using the trained model\n",
        "predictions = model.predict(X_test)\n",
        "\n",
        "# Display the predictions\n",
        "for prediction in predictions:\n",
        "    print('Predicted GPA range:', prediction)\n"
      ],
      "metadata": {
        "colab": {
          "base_uri": "https://localhost:8080/"
        },
        "id": "xS2vw6RqeF6f",
        "outputId": "6772fff5-7236-4caf-ca4b-0a7cadfc09ae"
      },
      "execution_count": 16,
      "outputs": [
        {
          "output_type": "stream",
          "name": "stdout",
          "text": [
            "Predicted GPA range: 3.091057339535754\n"
          ]
        }
      ]
    },
    {
      "cell_type": "code",
      "source": [],
      "metadata": {
        "id": "XV7YiRfJscia"
      },
      "execution_count": null,
      "outputs": []
    }
  ]
}