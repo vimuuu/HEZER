{
  "nbformat": 4,
  "nbformat_minor": 0,
  "metadata": {
    "colab": {
      "provenance": []
    },
    "kernelspec": {
      "name": "python3",
      "display_name": "Python 3"
    },
    "language_info": {
      "name": "python"
    }
  },
  "cells": [
    {
      "cell_type": "code",
      "source": [
        "# import packages\n",
        "import pandas as pd\n",
        "from sklearn.preprocessing import LabelEncoder\n",
        "from sklearn.ensemble import RandomForestRegressor\n",
        "from sklearn.metrics import mean_squared_error\n",
        "from sklearn.model_selection import train_test_split\n",
        "import json\n",
        "import numpy as np"
      ],
      "metadata": {
        "id": "0nIQWdgICA8G"
      },
      "execution_count": null,
      "outputs": []
    },
    {
      "cell_type": "code",
      "source": [
        "# load dataset\n",
        "\n",
        "data = pd.read_csv('https://raw.githubusercontent.com/SamithaPrabath/course-finder/master/career_opportunities.csv')\n",
        "\n",
        "# Remove rows with missing values\n",
        "data = data.dropna()"
      ],
      "metadata": {
        "id": "5t3-XSuw-qFk"
      },
      "execution_count": null,
      "outputs": []
    },
    {
      "cell_type": "code",
      "source": [
        "# Preprocess the data and encode categorical variables using LabelEncoder\n",
        "label_encoder = LabelEncoder()\n",
        "data['University_encoded'] = label_encoder.fit_transform(data['University'])\n",
        "data['Specialization_encoded'] = label_encoder.fit_transform(data['Specialization'])\n",
        "data['Employability_encoded'] = label_encoder.fit_transform(data['Employability'])\n",
        "data['Job_Role_encoded'] = label_encoder.fit_transform(data['Job_Role'])"
      ],
      "metadata": {
        "id": "a1fLISOp-zjG"
      },
      "execution_count": null,
      "outputs": []
    },
    {
      "cell_type": "code",
      "source": [
        "# function for save mappings to json file\n",
        "def create_json_file(file_name, encoded_list, pure_list):\n",
        "  mapping ={}\n",
        "  for i in range(len(encoded_list)):\n",
        "    if pure_list[i] not in mapping:\n",
        "      try:\n",
        "        mapping[pure_list[i]] = int(encoded_list[i])\n",
        "      except:\n",
        "        continue\n",
        "\n",
        "  filename = file_name\n",
        "  with open(filename, 'w') as file:\n",
        "    json.dump(mapping, file)"
      ],
      "metadata": {
        "id": "TE7PfN5f-56m"
      },
      "execution_count": null,
      "outputs": []
    },
    {
      "cell_type": "code",
      "source": [
        "# call function to create json files\n",
        "create_json_file('university_mapping.json', data['University_encoded'], list(data['University']))\n",
        "create_json_file('specialization_mapping.json', data['Specialization_encoded'], list(data['Specialization']))\n",
        "create_json_file('employability_mapping.json', data['Employability_encoded'], list(data['Employability']))\n",
        "create_json_file('job_role_mapping.json', data['Job_Role_encoded'], list(data['Job_Role']))"
      ],
      "metadata": {
        "id": "cYd_epi5AmAV"
      },
      "execution_count": null,
      "outputs": []
    },
    {
      "cell_type": "code",
      "source": [
        "# Extract min and max salary from Salary_range column\n",
        "data[['Min_salary', 'Max_salary']] = data['Salary_range'].str.split('-', expand=True).astype(int)\n",
        "\n",
        "# Calculate the average salary as the target variable\n",
        "data['Average_salary'] = (data['Min_salary'] + data['Max_salary']) / 2"
      ],
      "metadata": {
        "id": "4Z4gMhS5Bq92"
      },
      "execution_count": null,
      "outputs": []
    },
    {
      "cell_type": "code",
      "source": [
        "# Split the data into features (X) and target (y)\n",
        "X = data[['University_encoded', 'Specialization_encoded', 'Employability_encoded', 'Job_Role_encoded']]\n",
        "y = data['Average_salary']"
      ],
      "metadata": {
        "id": "SSM_WuUWBxvv"
      },
      "execution_count": null,
      "outputs": []
    },
    {
      "cell_type": "code",
      "source": [
        "# Create a RandomForestRegressor model\n",
        "model = RandomForestRegressor()\n",
        "\n",
        "X_train, X_test, y_train, y_test = train_test_split(X, y, test_size=0.2, random_state=42)\n",
        "\n",
        "model = RandomForestRegressor(n_estimators=100, random_state=42)\n",
        "\n",
        "# Train the model\n",
        "model.fit(X_train, y_train)"
      ],
      "metadata": {
        "colab": {
          "base_uri": "https://localhost:8080/",
          "height": 74
        },
        "id": "N4l3uObGB4cp",
        "outputId": "629c5cae-0096-4b8a-d1e1-ffd7d5c30345"
      },
      "execution_count": null,
      "outputs": [
        {
          "output_type": "execute_result",
          "data": {
            "text/plain": [
              "RandomForestRegressor(random_state=42)"
            ],
            "text/html": [
              "<style>#sk-container-id-4 {color: black;background-color: white;}#sk-container-id-4 pre{padding: 0;}#sk-container-id-4 div.sk-toggleable {background-color: white;}#sk-container-id-4 label.sk-toggleable__label {cursor: pointer;display: block;width: 100%;margin-bottom: 0;padding: 0.3em;box-sizing: border-box;text-align: center;}#sk-container-id-4 label.sk-toggleable__label-arrow:before {content: \"▸\";float: left;margin-right: 0.25em;color: #696969;}#sk-container-id-4 label.sk-toggleable__label-arrow:hover:before {color: black;}#sk-container-id-4 div.sk-estimator:hover label.sk-toggleable__label-arrow:before {color: black;}#sk-container-id-4 div.sk-toggleable__content {max-height: 0;max-width: 0;overflow: hidden;text-align: left;background-color: #f0f8ff;}#sk-container-id-4 div.sk-toggleable__content pre {margin: 0.2em;color: black;border-radius: 0.25em;background-color: #f0f8ff;}#sk-container-id-4 input.sk-toggleable__control:checked~div.sk-toggleable__content {max-height: 200px;max-width: 100%;overflow: auto;}#sk-container-id-4 input.sk-toggleable__control:checked~label.sk-toggleable__label-arrow:before {content: \"▾\";}#sk-container-id-4 div.sk-estimator input.sk-toggleable__control:checked~label.sk-toggleable__label {background-color: #d4ebff;}#sk-container-id-4 div.sk-label input.sk-toggleable__control:checked~label.sk-toggleable__label {background-color: #d4ebff;}#sk-container-id-4 input.sk-hidden--visually {border: 0;clip: rect(1px 1px 1px 1px);clip: rect(1px, 1px, 1px, 1px);height: 1px;margin: -1px;overflow: hidden;padding: 0;position: absolute;width: 1px;}#sk-container-id-4 div.sk-estimator {font-family: monospace;background-color: #f0f8ff;border: 1px dotted black;border-radius: 0.25em;box-sizing: border-box;margin-bottom: 0.5em;}#sk-container-id-4 div.sk-estimator:hover {background-color: #d4ebff;}#sk-container-id-4 div.sk-parallel-item::after {content: \"\";width: 100%;border-bottom: 1px solid gray;flex-grow: 1;}#sk-container-id-4 div.sk-label:hover label.sk-toggleable__label {background-color: #d4ebff;}#sk-container-id-4 div.sk-serial::before {content: \"\";position: absolute;border-left: 1px solid gray;box-sizing: border-box;top: 0;bottom: 0;left: 50%;z-index: 0;}#sk-container-id-4 div.sk-serial {display: flex;flex-direction: column;align-items: center;background-color: white;padding-right: 0.2em;padding-left: 0.2em;position: relative;}#sk-container-id-4 div.sk-item {position: relative;z-index: 1;}#sk-container-id-4 div.sk-parallel {display: flex;align-items: stretch;justify-content: center;background-color: white;position: relative;}#sk-container-id-4 div.sk-item::before, #sk-container-id-4 div.sk-parallel-item::before {content: \"\";position: absolute;border-left: 1px solid gray;box-sizing: border-box;top: 0;bottom: 0;left: 50%;z-index: -1;}#sk-container-id-4 div.sk-parallel-item {display: flex;flex-direction: column;z-index: 1;position: relative;background-color: white;}#sk-container-id-4 div.sk-parallel-item:first-child::after {align-self: flex-end;width: 50%;}#sk-container-id-4 div.sk-parallel-item:last-child::after {align-self: flex-start;width: 50%;}#sk-container-id-4 div.sk-parallel-item:only-child::after {width: 0;}#sk-container-id-4 div.sk-dashed-wrapped {border: 1px dashed gray;margin: 0 0.4em 0.5em 0.4em;box-sizing: border-box;padding-bottom: 0.4em;background-color: white;}#sk-container-id-4 div.sk-label label {font-family: monospace;font-weight: bold;display: inline-block;line-height: 1.2em;}#sk-container-id-4 div.sk-label-container {text-align: center;}#sk-container-id-4 div.sk-container {/* jupyter's `normalize.less` sets `[hidden] { display: none; }` but bootstrap.min.css set `[hidden] { display: none !important; }` so we also need the `!important` here to be able to override the default hidden behavior on the sphinx rendered scikit-learn.org. See: https://github.com/scikit-learn/scikit-learn/issues/21755 */display: inline-block !important;position: relative;}#sk-container-id-4 div.sk-text-repr-fallback {display: none;}</style><div id=\"sk-container-id-4\" class=\"sk-top-container\"><div class=\"sk-text-repr-fallback\"><pre>RandomForestRegressor(random_state=42)</pre><b>In a Jupyter environment, please rerun this cell to show the HTML representation or trust the notebook. <br />On GitHub, the HTML representation is unable to render, please try loading this page with nbviewer.org.</b></div><div class=\"sk-container\" hidden><div class=\"sk-item\"><div class=\"sk-estimator sk-toggleable\"><input class=\"sk-toggleable__control sk-hidden--visually\" id=\"sk-estimator-id-4\" type=\"checkbox\" checked><label for=\"sk-estimator-id-4\" class=\"sk-toggleable__label sk-toggleable__label-arrow\">RandomForestRegressor</label><div class=\"sk-toggleable__content\"><pre>RandomForestRegressor(random_state=42)</pre></div></div></div></div></div>"
            ]
          },
          "metadata": {},
          "execution_count": 148
        }
      ]
    },
    {
      "cell_type": "code",
      "source": [
        "# function for read json file and mapping\n",
        "def map_jason(file_name, value):\n",
        "  with open(file_name, 'r') as file:\n",
        "    data_read = json.load(file)\n",
        "    for key in data_read:\n",
        "      if key == value:\n",
        "        return data_read[key]\n"
      ],
      "metadata": {
        "id": "9I955suICedl"
      },
      "execution_count": null,
      "outputs": []
    },
    {
      "cell_type": "code",
      "source": [
        "\n",
        "# Example data for testing\n",
        "new_data = {\n",
        "    'University': ['SLIIT'],\n",
        "    'Specialization': ['Computer Systems & Network Engineering'],\n",
        "    'Employability': ['Internship / Traniee'],\n",
        "    'Job_Role': ['Develops Engineers']\n",
        "}\n",
        "\n",
        "new_data['University_encoded'] = map_jason('university_mapping.json',new_data['University'][0])\n",
        "new_data['Specialization_encoded'] = map_jason('specialization_mapping.json',new_data['Specialization'][0])\n",
        "new_data['Employability_encoded'] = map_jason('employability_mapping.json',new_data['Employability'][0])\n",
        "new_data['Job_Role_encoded'] = map_jason('job_role_mapping.json',new_data['Job_Role'][0])\n",
        "\n",
        "new_data = pd.DataFrame(new_data)\n",
        "\n",
        "X_test = new_data[['University_encoded', 'Specialization_encoded', 'Employability_encoded', 'Job_Role_encoded']]\n",
        "# Make predictions using the trained model\n",
        "predictions = model.predict(X_test)\n",
        "# Display the predictions\n",
        "for prediction in predictions:\n",
        "    print('Average Salary Rs: ', int(prediction))"
      ],
      "metadata": {
        "colab": {
          "base_uri": "https://localhost:8080/"
        },
        "id": "w_RbwNljsZIp",
        "outputId": "c7d96414-7cc4-4ba7-db59-41d700b942e0"
      },
      "execution_count": null,
      "outputs": [
        {
          "output_type": "stream",
          "name": "stdout",
          "text": [
            "Average Salary Rs:  36046\n"
          ]
        }
      ]
    }
  ]
}