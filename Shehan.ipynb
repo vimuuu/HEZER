{
  "nbformat": 4,
  "nbformat_minor": 0,
  "metadata": {
    "colab": {
      "provenance": []
    },
    "kernelspec": {
      "name": "python3",
      "display_name": "Python 3"
    },
    "language_info": {
      "name": "python"
    }
  },
  "cells": [
    {
      "cell_type": "code",
      "execution_count": null,
      "metadata": {
        "colab": {
          "base_uri": "https://localhost:8080/"
        },
        "id": "JM-zoOExYQlO",
        "outputId": "2fef99be-14d5-4570-98bd-fda24c84e50d"
      },
      "outputs": [
        {
          "output_type": "stream",
          "name": "stdout",
          "text": [
            "Mean Squared Error: 0.039133663366336634\n"
          ]
        }
      ],
      "source": [
        "import pandas as pd\n",
        "from sklearn.model_selection import train_test_split\n",
        "from sklearn.preprocessing import LabelEncoder\n",
        "from sklearn.ensemble import RandomForestRegressor\n",
        "from sklearn.metrics import mean_squared_error\n",
        "\n",
        "# Load the dataset\n",
        "data = pd.read_csv('https://raw.githubusercontent.com/SamithaPrabath/course-finder/master/risk_calculate.csv')\n",
        "\n",
        "# Preprocess the data\n",
        "label_encoder = LabelEncoder()\n",
        "data['university_encoded'] = label_encoder.fit_transform(data['University'])\n",
        "data['course_encoded'] = label_encoder.fit_transform(data['Specialization (Only for IT graduates/undergraduates)'])\n",
        "data['loan_amount_encoded'] = label_encoder.fit_transform(data['Applied Loan Amount'])\n",
        "data['year_encoded'] = label_encoder.fit_transform(data['Year Of Course'])\n",
        "\n",
        "\n",
        "target = 'Duration Of course '\n",
        "X = data[['university_encoded', 'course_encoded', 'loan_amount_encoded', 'year_encoded', 'GPA']]\n",
        "y = data[target]\n",
        "\n",
        "# Split the dataset into training and testing sets\n",
        "X_train, X_test, y_train, y_test = train_test_split(X, y, test_size=0.2, random_state=42)\n",
        "\n",
        "# Train the model\n",
        "model = RandomForestRegressor()\n",
        "model.fit(X_train, y_train)\n",
        "\n",
        "# Evaluate the model\n",
        "y_pred = model.predict(X_test)\n",
        "mse = mean_squared_error(y_test, y_pred)\n",
        "print(\"Mean Squared Error:\", mse)\n",
        "\n",
        "\n"
      ]
    },
    {
      "cell_type": "code",
      "source": [
        "import numpy as np\n",
        "from sklearn.preprocessing import LabelEncoder\n",
        "import matplotlib.pyplot as plt\n",
        "\n",
        "# Example usage: Predict the course duration for new inputs\n",
        "data = {\n",
        "    'University': ['NSBM'],\n",
        "    'Specialization (Only for IT graduates/undergraduates)': ['Software Engineering'],\n",
        "    'Applied Loan Amount': [100000],\n",
        "    'Year Of Course': [4],\n",
        "    'GPA': [2.5]\n",
        "}\n",
        "data = pd.DataFrame(data)\n",
        "label_encoder = LabelEncoder()\n",
        "data['university_encoded'] = label_encoder.fit_transform(data['University'])\n",
        "data['course_encoded'] = label_encoder.fit_transform(data['Specialization (Only for IT graduates/undergraduates)'])\n",
        "data['loan_amount_encoded'] = label_encoder.fit_transform(data['Applied Loan Amount'])\n",
        "data['year_encoded'] = label_encoder.fit_transform(data['Year Of Course'])\n",
        "\n",
        "X_test = data[['university_encoded', 'course_encoded', 'loan_amount_encoded', 'year_encoded', 'GPA']]\n",
        "\n",
        "# Make predictions using the trained model\n",
        "predictions = model.predict(X_test)\n",
        "\n",
        "data_1 = predictions - data['Year Of Course'][0]\n",
        "data_2 = 1 - (predictions - data['Year Of Course'][0])\n",
        "\n",
        "labels = ['Risk', 'Label 2']\n",
        "sizes = [data_1[0], data_2[0] ]  # The values representing the sizes of each slice\n",
        "\n",
        "plt.pie(sizes, labels=labels, autopct='%1.1f%%')\n",
        "\n",
        "plt.axis('equal')\n",
        "\n",
        "plt.title('Pie Chart Example')\n",
        "\n",
        "plt.show()\n"
      ],
      "metadata": {
        "colab": {
          "base_uri": "https://localhost:8080/",
          "height": 428
        },
        "id": "Z3z9sIZFJy9V",
        "outputId": "39d5c7e5-6251-4367-afd8-8c5d13709ce1"
      },
      "execution_count": null,
      "outputs": [
        {
          "output_type": "display_data",
          "data": {
            "text/plain": [
              "<Figure size 640x480 with 1 Axes>"
            ],
            "image/png": "[encoded data removed]"
          },
          "metadata": {}
        }
      ]
    },
    {
      "cell_type": "code",
      "source": [],
      "metadata": {
        "id": "CyYbpcx4bZiY"
      },
      "execution_count": null,
      "outputs": []
    }
  ]
}